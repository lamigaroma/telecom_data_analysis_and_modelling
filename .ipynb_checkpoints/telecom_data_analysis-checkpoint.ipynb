{
 "cells": [
  {
   "cell_type": "code",
   "execution_count": 28,
   "id": "35b4aef3-70aa-4b93-af96-3f634c164eee",
   "metadata": {},
   "outputs": [],
   "source": [
    "import pandas as pd\n",
    "import matplotlib.pyplot as plt\n",
    "import seaborn as sns\n",
    "import numpy as np\n",
    "\n",
    "%run db_connection.ipynb"
   ]
  },
  {
   "cell_type": "code",
   "execution_count": 4,
   "id": "f3f1eca7-1cb4-4566-afa0-2221bb58f079",
   "metadata": {},
   "outputs": [],
   "source": [
    "df = pd.read_sql(sql_query, con= engine)"
   ]
  },
  {
   "cell_type": "code",
   "execution_count": 4,
   "id": "aef2308c-8132-4b4e-8c06-f8697c9b33b4",
   "metadata": {},
   "outputs": [
    {
     "data": {
      "text/plain": [
       "(150001, 55)"
      ]
     },
     "execution_count": 4,
     "metadata": {},
     "output_type": "execute_result"
    }
   ],
   "source": [
    "df.shape"
   ]
  },
  {
   "cell_type": "code",
   "execution_count": 5,
   "id": "b9143ddc-aa54-42b3-b833-a6316354bbdd",
   "metadata": {},
   "outputs": [
    {
     "name": "stdout",
     "output_type": "stream",
     "text": [
      "<class 'pandas.core.frame.DataFrame'>\n",
      "RangeIndex: 150001 entries, 0 to 150000\n",
      "Data columns (total 55 columns):\n",
      " #   Column                                    Non-Null Count   Dtype  \n",
      "---  ------                                    --------------   -----  \n",
      " 0   Bearer Id                                 149010 non-null  float64\n",
      " 1   Start                                     150000 non-null  object \n",
      " 2   Start ms                                  150000 non-null  float64\n",
      " 3   End                                       150000 non-null  object \n",
      " 4   End ms                                    150000 non-null  float64\n",
      " 5   Dur. (ms)                                 150000 non-null  float64\n",
      " 6   IMSI                                      149431 non-null  float64\n",
      " 7   MSISDN/Number                             148935 non-null  float64\n",
      " 8   IMEI                                      149429 non-null  float64\n",
      " 9   Last Location Name                        148848 non-null  object \n",
      " 10  Avg RTT DL (ms)                           122172 non-null  float64\n",
      " 11  Avg RTT UL (ms)                           122189 non-null  float64\n",
      " 12  Avg Bearer TP DL (kbps)                   150000 non-null  float64\n",
      " 13  Avg Bearer TP UL (kbps)                   150000 non-null  float64\n",
      " 14  TCP DL Retrans. Vol (Bytes)               61855 non-null   float64\n",
      " 15  TCP UL Retrans. Vol (Bytes)               53352 non-null   float64\n",
      " 16  DL TP < 50 Kbps (%)                       149247 non-null  float64\n",
      " 17  50 Kbps < DL TP < 250 Kbps (%)            149247 non-null  float64\n",
      " 18  250 Kbps < DL TP < 1 Mbps (%)             149247 non-null  float64\n",
      " 19  DL TP > 1 Mbps (%)                        149247 non-null  float64\n",
      " 20  UL TP < 10 Kbps (%)                       149209 non-null  float64\n",
      " 21  10 Kbps < UL TP < 50 Kbps (%)             149209 non-null  float64\n",
      " 22  50 Kbps < UL TP < 300 Kbps (%)            149209 non-null  float64\n",
      " 23  UL TP > 300 Kbps (%)                      149209 non-null  float64\n",
      " 24  HTTP DL (Bytes)                           68527 non-null   float64\n",
      " 25  HTTP UL (Bytes)                           68191 non-null   float64\n",
      " 26  Activity Duration DL (ms)                 150000 non-null  float64\n",
      " 27  Activity Duration UL (ms)                 150000 non-null  float64\n",
      " 28  Dur. (ms).1                               150000 non-null  float64\n",
      " 29  Handset Manufacturer                      149429 non-null  object \n",
      " 30  Handset Type                              149429 non-null  object \n",
      " 31  Nb of sec with 125000B < Vol DL           52463 non-null   float64\n",
      " 32  Nb of sec with 1250B < Vol UL < 6250B     57107 non-null   float64\n",
      " 33  Nb of sec with 31250B < Vol DL < 125000B  56415 non-null   float64\n",
      " 34  Nb of sec with 37500B < Vol UL            19747 non-null   float64\n",
      " 35  Nb of sec with 6250B < Vol DL < 31250B    61684 non-null   float64\n",
      " 36  Nb of sec with 6250B < Vol UL < 37500B    38158 non-null   float64\n",
      " 37  Nb of sec with Vol DL < 6250B             149246 non-null  float64\n",
      " 38  Nb of sec with Vol UL < 1250B             149208 non-null  float64\n",
      " 39  Social Media DL (Bytes)                   150001 non-null  float64\n",
      " 40  Social Media UL (Bytes)                   150001 non-null  float64\n",
      " 41  Google DL (Bytes)                         150001 non-null  float64\n",
      " 42  Google UL (Bytes)                         150001 non-null  float64\n",
      " 43  Email DL (Bytes)                          150001 non-null  float64\n",
      " 44  Email UL (Bytes)                          150001 non-null  float64\n",
      " 45  Youtube DL (Bytes)                        150001 non-null  float64\n",
      " 46  Youtube UL (Bytes)                        150001 non-null  float64\n",
      " 47  Netflix DL (Bytes)                        150001 non-null  float64\n",
      " 48  Netflix UL (Bytes)                        150001 non-null  float64\n",
      " 49  Gaming DL (Bytes)                         150001 non-null  float64\n",
      " 50  Gaming UL (Bytes)                         150001 non-null  float64\n",
      " 51  Other DL (Bytes)                          150001 non-null  float64\n",
      " 52  Other UL (Bytes)                          150001 non-null  float64\n",
      " 53  Total UL (Bytes)                          150000 non-null  float64\n",
      " 54  Total DL (Bytes)                          150000 non-null  float64\n",
      "dtypes: float64(50), object(5)\n",
      "memory usage: 62.9+ MB\n"
     ]
    }
   ],
   "source": [
    "df.info()"
   ]
  },
  {
   "cell_type": "markdown",
   "id": "34f84991-cd5d-41d7-b2c6-e7c68b8364fc",
   "metadata": {},
   "source": [
    "# Identifying the top 10 handsets used by the customers"
   ]
  },
  {
   "cell_type": "code",
   "execution_count": 19,
   "id": "e6c1c5e1-5f00-4860-8d5b-39a7bc5c436e",
   "metadata": {},
   "outputs": [
    {
     "data": {
      "text/plain": [
       "Handset Type\n",
       "Huawei B528S-23A                19752\n",
       "Apple iPhone 6S (A1688)          9419\n",
       "Apple iPhone 6 (A1586)           9023\n",
       "undefined                        8987\n",
       "Apple iPhone 7 (A1778)           6326\n",
       "Apple iPhone Se (A1723)          5187\n",
       "Apple iPhone 8 (A1905)           4993\n",
       "Apple iPhone Xr (A2105)          4568\n",
       "Samsung Galaxy S8 (Sm-G950F)     4520\n",
       "Apple iPhone X (A1901)           3813\n",
       "Name: count, dtype: int64"
      ]
     },
     "execution_count": 19,
     "metadata": {},
     "output_type": "execute_result"
    }
   ],
   "source": [
    "df_headset_type = df['Handset Type'].value_counts(ascending=False)\n",
    "df_headset_type.iloc[:10]"
   ]
  },
  {
   "cell_type": "code",
   "execution_count": 20,
   "id": "1f622d7b-1e0f-47c8-afad-90ab0500fcbc",
   "metadata": {},
   "outputs": [
    {
     "data": {
      "text/plain": [
       "<Axes: title={'center': 'Top 10 Handset Type Widely used by user'}, xlabel='Handset Type'>"
      ]
     },
     "execution_count": 20,
     "metadata": {},
     "output_type": "execute_result"
    },
    {
     "data": {
      "image/png": "[encoded data removed]",
      "text/plain": [
       "<Figure size 640x480 with 1 Axes>"
      ]
     },
     "metadata": {},
     "output_type": "display_data"
    }
   ],
   "source": [
    "df_headset_type.iloc[:10].plot.bar(x=\"Total Handset Used\", y=\"Handset Type\", title=\"Top 10 Handset Type Widely used by user\")"
   ]
  },
  {
   "cell_type": "markdown",
   "id": "0e6991e1-227c-4f1e-bb48-ead1730d0016",
   "metadata": {},
   "source": [
    "# Identifying the top 3 handset manufacturers"
   ]
  },
  {
   "cell_type": "code",
   "execution_count": 22,
   "id": "eed2f24d-99cb-4f70-a15b-7d3c082ad1ab",
   "metadata": {},
   "outputs": [
    {
     "data": {
      "text/plain": [
       "Handset Manufacturer\n",
       "Apple      59565\n",
       "Samsung    40839\n",
       "Huawei     34423\n",
       "Name: count, dtype: int64"
      ]
     },
     "execution_count": 22,
     "metadata": {},
     "output_type": "execute_result"
    }
   ],
   "source": [
    "df_headset_m = df['Handset Manufacturer'].value_counts(ascending=False)\n",
    "df_headset_m.iloc[:3]"
   ]
  },
  {
   "cell_type": "code",
   "execution_count": 9,
   "id": "20928763-065e-479e-a9fd-cef4d13771bb",
   "metadata": {},
   "outputs": [
    {
     "data": {
      "text/plain": [
       "Text(0.5, 1.0, 'Top 3 Handset used by Manufacturer')"
      ]
     },
     "execution_count": 9,
     "metadata": {},
     "output_type": "execute_result"
    },
    {
     "data": {
      "image/png": "[encoded data removed]",
      "text/plain": [
       "<Figure size 640x480 with 1 Axes>"
      ]
     },
     "metadata": {},
     "output_type": "display_data"
    }
   ],
   "source": [
    "df_headset.iloc[:3].plot(kind=\"bar\")\n",
    "plt.xlabel(\"Handset Manufacturer\")\n",
    "plt.ylabel(\"Total Handset Used\")\n",
    "plt.title(\"Top 3 Handset used by Manufacturer\")"
   ]
  },
  {
   "cell_type": "markdown",
   "id": "68a9a57e-2a9d-49f4-9d79-8aa0e7e7e555",
   "metadata": {},
   "source": [
    "# Identifying the top 5 handsets per top 3 handset manufacturer"
   ]
  },
  {
   "cell_type": "code",
   "execution_count": 5,
   "id": "d57e6626-6d1a-4463-bb70-77e62a49fe30",
   "metadata": {},
   "outputs": [],
   "source": [
    "top_5_headsets =['Huawei B528S-23A', 'Apple iPhone 6S (A1688)','Apple iPhone 6 (A1586)', 'undefined','Apple iPhone 7 (A1778)']\n",
    "top_3_manufacturers = ['Apple','Samsung', 'Huawei']\n",
    "top_5_headset_by_top_3_manufac =df[(df['Handset Type'].isin(top_5_headsets)) & (df['Handset Manufacturer'].isin(top_3_manufacturers))]"
   ]
  },
  {
   "cell_type": "code",
   "execution_count": 15,
   "id": "ce702a60-82c1-4da8-a57b-fa0797423c69",
   "metadata": {},
   "outputs": [
    {
     "data": {
      "text/plain": [
       "Handset Type\n",
       "Huawei B528S-23A           19752\n",
       "Apple iPhone 6S (A1688)     9419\n",
       "Apple iPhone 6 (A1586)      9023\n",
       "Apple iPhone 7 (A1778)      6326\n",
       "Name: count, dtype: int64"
      ]
     },
     "execution_count": 15,
     "metadata": {},
     "output_type": "execute_result"
    }
   ],
   "source": [
    "top5 = top_5_headset_by_top_3_manufac['Handset Type'].value_counts(ascending=False)\n",
    "top5.iloc[:5]"
   ]
  },
  {
   "cell_type": "code",
   "execution_count": 16,
   "id": "93b053de-7db2-4754-8b88-edd5e50de6d6",
   "metadata": {},
   "outputs": [
    {
     "data": {
      "text/plain": [
       "Text(0.5, 1.0, '5 handset per top 3 handset manufacturer')"
      ]
     },
     "execution_count": 16,
     "metadata": {},
     "output_type": "execute_result"
    },
    {
     "data": {
      "image/png": "[encoded data removed]",
      "text/plain": [
       "<Figure size 640x480 with 1 Axes>"
      ]
     },
     "metadata": {},
     "output_type": "display_data"
    }
   ],
   "source": [
    "top5.iloc[:5].plot(kind=\"bar\")\n",
    "plt.xlabel(\"Handset Type\")\n",
    "plt.ylabel(\"Count of handset type\")\n",
    "plt.title(\"5 handset per top 3 handset manufacturer\")"
   ]
  },
  {
   "cell_type": "code",
   "execution_count": 24,
   "id": "d0c08a91-6a29-4d60-87fa-747aff416ec5",
   "metadata": {},
   "outputs": [
    {
     "data": {
      "text/plain": [
       "1031392"
      ]
     },
     "execution_count": 24,
     "metadata": {},
     "output_type": "execute_result"
    }
   ],
   "source": [
    "df.isnull().sum().sum()"
   ]
  },
  {
   "cell_type": "code",
   "execution_count": 33,
   "id": "2b4c922b-717f-4b56-9dbc-a4cf9be88b5c",
   "metadata": {},
   "outputs": [
    {
     "data": {
      "text/plain": [
       "Nb of sec with 37500B < Vol UL              130254\n",
       "Nb of sec with 6250B < Vol UL < 37500B      111843\n",
       "Nb of sec with 125000B < Vol DL              97538\n",
       "TCP UL Retrans. Vol (Bytes)                  96649\n",
       "Nb of sec with 31250B < Vol DL < 125000B     93586\n",
       "Nb of sec with 1250B < Vol UL < 6250B        92894\n",
       "Nb of sec with 6250B < Vol DL < 31250B       88317\n",
       "TCP DL Retrans. Vol (Bytes)                  88146\n",
       "HTTP UL (Bytes)                              81810\n",
       "HTTP DL (Bytes)                              81474\n",
       "Avg RTT DL (ms)                              27829\n",
       "Avg RTT UL (ms)                              27812\n",
       "Last Location Name                            1153\n",
       "MSISDN/Number                                 1066\n",
       "Bearer Id                                      991\n",
       "Nb of sec with Vol UL < 1250B                  793\n",
       "UL TP < 10 Kbps (%)                            792\n",
       "10 Kbps < UL TP < 50 Kbps (%)                  792\n",
       "50 Kbps < UL TP < 300 Kbps (%)                 792\n",
       "UL TP > 300 Kbps (%)                           792\n",
       "Nb of sec with Vol DL < 6250B                  755\n",
       "DL TP < 50 Kbps (%)                            754\n",
       "50 Kbps < DL TP < 250 Kbps (%)                 754\n",
       "250 Kbps < DL TP < 1 Mbps (%)                  754\n",
       "DL TP > 1 Mbps (%)                             754\n",
       "Handset Type                                   572\n",
       "IMEI                                           572\n",
       "Handset Manufacturer                           572\n",
       "IMSI                                           570\n",
       "Total UL (Bytes)                                 1\n",
       "Activity Duration UL (ms)                        1\n",
       "Dur. (ms).1                                      1\n",
       "End ms                                           1\n",
       "Start ms                                         1\n",
       "Start                                            1\n",
       "End                                              1\n",
       "Total DL (Bytes)                                 1\n",
       "Dur. (ms)                                        1\n",
       "Activity Duration DL (ms)                        1\n",
       "Avg Bearer TP UL (kbps)                          1\n",
       "Avg Bearer TP DL (kbps)                          1\n",
       "Netflix DL (Bytes)                               0\n",
       "Other UL (Bytes)                                 0\n",
       "Other DL (Bytes)                                 0\n",
       "Gaming UL (Bytes)                                0\n",
       "Gaming DL (Bytes)                                0\n",
       "Netflix UL (Bytes)                               0\n",
       "Youtube UL (Bytes)                               0\n",
       "Youtube DL (Bytes)                               0\n",
       "Email UL (Bytes)                                 0\n",
       "Google UL (Bytes)                                0\n",
       "Google DL (Bytes)                                0\n",
       "Social Media UL (Bytes)                          0\n",
       "Social Media DL (Bytes)                          0\n",
       "Email DL (Bytes)                                 0\n",
       "dtype: int64"
      ]
     },
     "execution_count": 33,
     "metadata": {},
     "output_type": "execute_result"
    }
   ],
   "source": [
    "df.isnull().sum().sort_values(ascending=False)"
   ]
  },
  {
   "cell_type": "code",
   "execution_count": 37,
   "id": "bd94de16-0901-4ee5-9ebf-742d84205899",
   "metadata": {},
   "outputs": [
    {
     "name": "stdout",
     "output_type": "stream",
     "text": [
      "The telecom dataset contains 12.5 % missing values.\n"
     ]
    }
   ],
   "source": [
    "# how many missing values exist or better still what is the % of missing values in the dataset?\n",
    "def percent_missing(df):\n",
    "    # Calculate total number of cells in dataframe\n",
    "    totalCells = np.product(df.shape)\n",
    "\n",
    "    # Count number of missing values per column\n",
    "    missingCount = df.isnull().sum()\n",
    "\n",
    "    # Calculate total number of missing values\n",
    "    totalMissing = missingCount.sum()\n",
    "\n",
    "    # Calculate percentage of missing values\n",
    "    print(\"The telecom dataset contains\", round(((totalMissing/totalCells) * 100), 2), \"%\", \"missing values.\")\n",
    "\n",
    "percent_missing(df)"
   ]
  },
  {
   "cell_type": "code",
   "execution_count": 35,
   "id": "bb47321b-9339-48c5-9a4f-9bb79deca247",
   "metadata": {
    "scrolled": true
   },
   "outputs": [
    {
     "data": {
      "text/plain": [
       "Nb of sec with 37500B < Vol UL              86.835421\n",
       "Nb of sec with 6250B < Vol UL < 37500B      74.561503\n",
       "Nb of sec with 125000B < Vol DL             65.024900\n",
       "TCP UL Retrans. Vol (Bytes)                 64.432237\n",
       "Nb of sec with 31250B < Vol DL < 125000B    62.390251\n",
       "Nb of sec with 1250B < Vol UL < 6250B       61.928920\n",
       "Nb of sec with 6250B < Vol DL < 31250B      58.877607\n",
       "TCP DL Retrans. Vol (Bytes)                 58.763608\n",
       "HTTP UL (Bytes)                             54.539636\n",
       "HTTP DL (Bytes)                             54.315638\n",
       "Avg RTT DL (ms)                             18.552543\n",
       "Avg RTT UL (ms)                             18.541210\n",
       "Last Location Name                           0.768662\n",
       "MSISDN/Number                                0.710662\n",
       "Bearer Id                                    0.660662\n",
       "Nb of sec with Vol UL < 1250B                0.528663\n",
       "UL TP < 10 Kbps (%)                          0.527996\n",
       "10 Kbps < UL TP < 50 Kbps (%)                0.527996\n",
       "50 Kbps < UL TP < 300 Kbps (%)               0.527996\n",
       "UL TP > 300 Kbps (%)                         0.527996\n",
       "Nb of sec with Vol DL < 6250B                0.503330\n",
       "DL TP < 50 Kbps (%)                          0.502663\n",
       "50 Kbps < DL TP < 250 Kbps (%)               0.502663\n",
       "250 Kbps < DL TP < 1 Mbps (%)                0.502663\n",
       "DL TP > 1 Mbps (%)                           0.502663\n",
       "Handset Type                                 0.381331\n",
       "IMEI                                         0.381331\n",
       "Handset Manufacturer                         0.381331\n",
       "IMSI                                         0.379997\n",
       "Total UL (Bytes)                             0.000667\n",
       "Activity Duration UL (ms)                    0.000667\n",
       "Dur. (ms).1                                  0.000667\n",
       "End ms                                       0.000667\n",
       "Start ms                                     0.000667\n",
       "Start                                        0.000667\n",
       "End                                          0.000667\n",
       "Total DL (Bytes)                             0.000667\n",
       "Dur. (ms)                                    0.000667\n",
       "Activity Duration DL (ms)                    0.000667\n",
       "Avg Bearer TP UL (kbps)                      0.000667\n",
       "Avg Bearer TP DL (kbps)                      0.000667\n",
       "Netflix DL (Bytes)                           0.000000\n",
       "Other UL (Bytes)                             0.000000\n",
       "Other DL (Bytes)                             0.000000\n",
       "Gaming UL (Bytes)                            0.000000\n",
       "Gaming DL (Bytes)                            0.000000\n",
       "Netflix UL (Bytes)                           0.000000\n",
       "Youtube UL (Bytes)                           0.000000\n",
       "Youtube DL (Bytes)                           0.000000\n",
       "Email UL (Bytes)                             0.000000\n",
       "Google UL (Bytes)                            0.000000\n",
       "Google DL (Bytes)                            0.000000\n",
       "Social Media UL (Bytes)                      0.000000\n",
       "Social Media DL (Bytes)                      0.000000\n",
       "Email DL (Bytes)                             0.000000\n",
       "dtype: float64"
      ]
     },
     "execution_count": 35,
     "metadata": {},
     "output_type": "execute_result"
    }
   ],
   "source": [
    "# Total null values in percentage for telecom dataset (%)\n",
    "df.isnull().sum().sort_values(ascending=False)/150001*100"
   ]
  },
  {
   "cell_type": "code",
   "execution_count": 39,
   "id": "d63bbd8c-5cad-40be-a2c5-f9b824711ac3",
   "metadata": {},
   "outputs": [
    {
     "data": {
      "text/plain": [
       "(150001, 45)"
      ]
     },
     "execution_count": 39,
     "metadata": {},
     "output_type": "execute_result"
    }
   ],
   "source": [
    "# drop columns with more than 30% missing values\n",
    "df_clean = df.drop(['Nb of sec with 37500B < Vol UL', 'Nb of sec with 6250B < Vol UL < 37500B', \n",
    "                    'Nb of sec with 125000B < Vol DL', 'TCP UL Retrans. Vol (Bytes)', \n",
    "                    'Nb of sec with 31250B < Vol DL < 125000B','Nb of sec with 1250B < Vol UL < 6250B',\n",
    "                    'Nb of sec with 6250B < Vol DL < 31250B','TCP DL Retrans. Vol (Bytes)',\n",
    "                    'HTTP UL (Bytes)','HTTP DL (Bytes)'], axis=1)\n",
    "df_clean.shape"
   ]
  },
  {
   "cell_type": "code",
   "execution_count": 51,
   "id": "2eb6d388-d86c-4bd3-afa6-91a98a0ba23e",
   "metadata": {},
   "outputs": [],
   "source": [
    "# fill missing with ffill method for columns\n",
    "\n",
    "def fix_missing_bymode(df, col):\n",
    "    df_clean[col] = df_clean[col].mode()[0]\n",
    "    return df[col]\n",
    "\n",
    "\n",
    "def fix_missing_bfill(df, col):\n",
    "    df[col] = df[col].fillna(method='bfill')\n",
    "    return df[col]\n",
    "\n",
    "df_clean['Start'] = fix_missing_bymode(df_clean, 'Start')\n",
    "df_clean['End '] = fix_missing_bymode(df_clean, 'End')\n",
    "df_clean['Last Location Name'] = fix_missing_bymode(df_clean, 'Last Location Name')\n",
    "df_clean['Handset Manufacturer'] = fix_missing_bymode(df_clean, 'Handset Manufacturer')\n",
    "df_clean['Handset Type'] = fix_missing_bymode(df_clean, 'Handset Type')"
   ]
  },
  {
   "cell_type": "code",
   "execution_count": 55,
   "id": "bc01f37c-02b7-4b4d-a33d-1f77eb6822ae",
   "metadata": {
    "scrolled": true
   },
   "outputs": [],
   "source": [
    "# Filling all float datatype columns using forward fill method\n",
    "df_clean.fillna(method='ffill', inplace=True)"
   ]
  },
  {
   "cell_type": "code",
   "execution_count": 57,
   "id": "97192ed7-cc62-4c98-9e2c-e79949fe69f0",
   "metadata": {},
   "outputs": [
    {
     "data": {
      "text/plain": [
       "0"
      ]
     },
     "execution_count": 57,
     "metadata": {},
     "output_type": "execute_result"
    }
   ],
   "source": [
    "# Total of missiong value is 0\n",
    "df_clean.isnull().sum().sum()"
   ]
  },
  {
   "cell_type": "code",
   "execution_count": null,
   "id": "56396b13-e623-4d13-b110-25c76c5ae1ef",
   "metadata": {},
   "outputs": [],
   "source": [
    "# Users’ behavior on those applications by aggregating information's relevant columns\n"
   ]
  },
  {
   "cell_type": "code",
   "execution_count": 61,
   "id": "384f0abd-2850-4894-bd8f-43b28658ded5",
   "metadata": {
    "scrolled": true
   },
   "outputs": [],
   "source": [
    "columns = ['Bearer Id','Dur. (ms)', 'Social Media DL (Bytes)','Social Media UL (Bytes)','Google DL (Bytes)',\n",
    "           'Google UL (Bytes)','Email DL (Bytes)','Email UL (Bytes)','Youtube DL (Bytes)','Youtube UL (Bytes)',\n",
    "           'Netflix DL (Bytes)','Netflix UL (Bytes)','Gaming DL (Bytes)','Gaming UL (Bytes)','Other DL (Bytes)',\n",
    "           'Total UL (Bytes)','Total DL (Bytes)']\n",
    "df_user_aggregation = df_clean[columns]"
   ]
  },
  {
   "cell_type": "code",
   "execution_count": 62,
   "id": "42b85edd-e9cc-46b1-bcd2-849b02994b4d",
   "metadata": {},
   "outputs": [
    {
     "data": {
      "text/plain": [
       "(150001, 17)"
      ]
     },
     "execution_count": 62,
     "metadata": {},
     "output_type": "execute_result"
    }
   ],
   "source": [
    "df_user_aggregation.shape"
   ]
  },
  {
   "cell_type": "code",
   "execution_count": 64,
   "id": "9761c543-0cc3-4115-bb8f-7e3317501f7d",
   "metadata": {},
   "outputs": [
    {
     "data": {
      "text/html": [
       "<div>\n",
       "<style scoped>\n",
       "    .dataframe tbody tr th:only-of-type {\n",
       "        vertical-align: middle;\n",
       "    }\n",
       "\n",
       "    .dataframe tbody tr th {\n",
       "        vertical-align: top;\n",
       "    }\n",
       "\n",
       "    .dataframe thead th {\n",
       "        text-align: right;\n",
       "    }\n",
       "</style>\n",
       "<table border=\"1\" class=\"dataframe\">\n",
       "  <thead>\n",
       "    <tr style=\"text-align: right;\">\n",
       "      <th></th>\n",
       "      <th>Bearer Id</th>\n",
       "      <th>Dur. (ms)</th>\n",
       "      <th>Social Media DL (Bytes)</th>\n",
       "      <th>Social Media UL (Bytes)</th>\n",
       "      <th>Google DL (Bytes)</th>\n",
       "      <th>Google UL (Bytes)</th>\n",
       "      <th>Email DL (Bytes)</th>\n",
       "      <th>Email UL (Bytes)</th>\n",
       "      <th>Youtube DL (Bytes)</th>\n",
       "      <th>Youtube UL (Bytes)</th>\n",
       "      <th>Netflix DL (Bytes)</th>\n",
       "      <th>Netflix UL (Bytes)</th>\n",
       "      <th>Gaming DL (Bytes)</th>\n",
       "      <th>Gaming UL (Bytes)</th>\n",
       "      <th>Other DL (Bytes)</th>\n",
       "      <th>Total UL (Bytes)</th>\n",
       "      <th>Total DL (Bytes)</th>\n",
       "    </tr>\n",
       "  </thead>\n",
       "  <tbody>\n",
       "    <tr>\n",
       "      <th>count</th>\n",
       "      <td>1.500010e+05</td>\n",
       "      <td>1.500010e+05</td>\n",
       "      <td>1.500010e+05</td>\n",
       "      <td>150001.000000</td>\n",
       "      <td>1.500010e+05</td>\n",
       "      <td>1.500010e+05</td>\n",
       "      <td>1.500010e+05</td>\n",
       "      <td>150001.000000</td>\n",
       "      <td>1.500010e+05</td>\n",
       "      <td>1.500010e+05</td>\n",
       "      <td>1.500010e+05</td>\n",
       "      <td>1.500010e+05</td>\n",
       "      <td>1.500010e+05</td>\n",
       "      <td>1.500010e+05</td>\n",
       "      <td>1.500010e+05</td>\n",
       "      <td>1.500010e+05</td>\n",
       "      <td>1.500010e+05</td>\n",
       "    </tr>\n",
       "    <tr>\n",
       "      <th>mean</th>\n",
       "      <td>1.013857e+19</td>\n",
       "      <td>1.046085e+05</td>\n",
       "      <td>1.795322e+06</td>\n",
       "      <td>32928.434380</td>\n",
       "      <td>5.750753e+06</td>\n",
       "      <td>2.056542e+06</td>\n",
       "      <td>1.791729e+06</td>\n",
       "      <td>467373.441940</td>\n",
       "      <td>1.163407e+07</td>\n",
       "      <td>1.100941e+07</td>\n",
       "      <td>1.162685e+07</td>\n",
       "      <td>1.100175e+07</td>\n",
       "      <td>4.220447e+08</td>\n",
       "      <td>8.288398e+06</td>\n",
       "      <td>4.211005e+08</td>\n",
       "      <td>4.112113e+07</td>\n",
       "      <td>4.546429e+08</td>\n",
       "    </tr>\n",
       "    <tr>\n",
       "      <th>std</th>\n",
       "      <td>2.893197e+18</td>\n",
       "      <td>8.103735e+04</td>\n",
       "      <td>1.035482e+06</td>\n",
       "      <td>19006.178256</td>\n",
       "      <td>3.309097e+06</td>\n",
       "      <td>1.189917e+06</td>\n",
       "      <td>1.035840e+06</td>\n",
       "      <td>269969.307031</td>\n",
       "      <td>6.710569e+06</td>\n",
       "      <td>6.345423e+06</td>\n",
       "      <td>6.725218e+06</td>\n",
       "      <td>6.359490e+06</td>\n",
       "      <td>2.439675e+08</td>\n",
       "      <td>4.782700e+06</td>\n",
       "      <td>2.432050e+08</td>\n",
       "      <td>1.127639e+07</td>\n",
       "      <td>2.441422e+08</td>\n",
       "    </tr>\n",
       "    <tr>\n",
       "      <th>min</th>\n",
       "      <td>6.917538e+18</td>\n",
       "      <td>7.142000e+03</td>\n",
       "      <td>1.200000e+01</td>\n",
       "      <td>0.000000</td>\n",
       "      <td>2.070000e+02</td>\n",
       "      <td>3.000000e+00</td>\n",
       "      <td>1.400000e+01</td>\n",
       "      <td>2.000000</td>\n",
       "      <td>5.300000e+01</td>\n",
       "      <td>1.050000e+02</td>\n",
       "      <td>4.200000e+01</td>\n",
       "      <td>3.500000e+01</td>\n",
       "      <td>2.516000e+03</td>\n",
       "      <td>5.900000e+01</td>\n",
       "      <td>3.290000e+03</td>\n",
       "      <td>2.866892e+06</td>\n",
       "      <td>7.114041e+06</td>\n",
       "    </tr>\n",
       "    <tr>\n",
       "      <th>25%</th>\n",
       "      <td>7.349883e+18</td>\n",
       "      <td>5.744200e+04</td>\n",
       "      <td>8.991480e+05</td>\n",
       "      <td>16448.000000</td>\n",
       "      <td>2.882393e+06</td>\n",
       "      <td>1.024279e+06</td>\n",
       "      <td>8.927930e+05</td>\n",
       "      <td>233383.000000</td>\n",
       "      <td>5.833501e+06</td>\n",
       "      <td>5.517965e+06</td>\n",
       "      <td>5.777156e+06</td>\n",
       "      <td>5.475981e+06</td>\n",
       "      <td>2.104733e+08</td>\n",
       "      <td>4.128476e+06</td>\n",
       "      <td>2.101869e+08</td>\n",
       "      <td>3.322196e+07</td>\n",
       "      <td>2.431072e+08</td>\n",
       "    </tr>\n",
       "    <tr>\n",
       "      <th>50%</th>\n",
       "      <td>7.349883e+18</td>\n",
       "      <td>8.639900e+04</td>\n",
       "      <td>1.794369e+06</td>\n",
       "      <td>32920.000000</td>\n",
       "      <td>5.765829e+06</td>\n",
       "      <td>2.054573e+06</td>\n",
       "      <td>1.793505e+06</td>\n",
       "      <td>466250.000000</td>\n",
       "      <td>1.161602e+07</td>\n",
       "      <td>1.101345e+07</td>\n",
       "      <td>1.164222e+07</td>\n",
       "      <td>1.099638e+07</td>\n",
       "      <td>4.234081e+08</td>\n",
       "      <td>8.291208e+06</td>\n",
       "      <td>4.218030e+08</td>\n",
       "      <td>4.114324e+07</td>\n",
       "      <td>4.558409e+08</td>\n",
       "    </tr>\n",
       "    <tr>\n",
       "      <th>75%</th>\n",
       "      <td>1.304243e+19</td>\n",
       "      <td>1.324300e+05</td>\n",
       "      <td>2.694938e+06</td>\n",
       "      <td>49334.000000</td>\n",
       "      <td>8.623552e+06</td>\n",
       "      <td>3.088454e+06</td>\n",
       "      <td>2.689327e+06</td>\n",
       "      <td>700440.000000</td>\n",
       "      <td>1.744852e+07</td>\n",
       "      <td>1.651556e+07</td>\n",
       "      <td>1.747048e+07</td>\n",
       "      <td>1.650727e+07</td>\n",
       "      <td>6.331742e+08</td>\n",
       "      <td>1.243162e+07</td>\n",
       "      <td>6.316918e+08</td>\n",
       "      <td>4.903424e+07</td>\n",
       "      <td>6.657051e+08</td>\n",
       "    </tr>\n",
       "    <tr>\n",
       "      <th>max</th>\n",
       "      <td>1.318654e+19</td>\n",
       "      <td>1.859336e+06</td>\n",
       "      <td>3.586064e+06</td>\n",
       "      <td>65870.000000</td>\n",
       "      <td>1.146283e+07</td>\n",
       "      <td>4.121357e+06</td>\n",
       "      <td>3.586146e+06</td>\n",
       "      <td>936418.000000</td>\n",
       "      <td>2.325910e+07</td>\n",
       "      <td>2.201196e+07</td>\n",
       "      <td>2.325919e+07</td>\n",
       "      <td>2.201196e+07</td>\n",
       "      <td>8.434419e+08</td>\n",
       "      <td>1.655879e+07</td>\n",
       "      <td>8.434425e+08</td>\n",
       "      <td>7.833131e+07</td>\n",
       "      <td>9.029696e+08</td>\n",
       "    </tr>\n",
       "  </tbody>\n",
       "</table>\n",
       "</div>"
      ],
      "text/plain": [
       "          Bearer Id     Dur. (ms)  Social Media DL (Bytes)  \\\n",
       "count  1.500010e+05  1.500010e+05             1.500010e+05   \n",
       "mean   1.013857e+19  1.046085e+05             1.795322e+06   \n",
       "std    2.893197e+18  8.103735e+04             1.035482e+06   \n",
       "min    6.917538e+18  7.142000e+03             1.200000e+01   \n",
       "25%    7.349883e+18  5.744200e+04             8.991480e+05   \n",
       "50%    7.349883e+18  8.639900e+04             1.794369e+06   \n",
       "75%    1.304243e+19  1.324300e+05             2.694938e+06   \n",
       "max    1.318654e+19  1.859336e+06             3.586064e+06   \n",
       "\n",
       "       Social Media UL (Bytes)  Google DL (Bytes)  Google UL (Bytes)  \\\n",
       "count            150001.000000       1.500010e+05       1.500010e+05   \n",
       "mean              32928.434380       5.750753e+06       2.056542e+06   \n",
       "std               19006.178256       3.309097e+06       1.189917e+06   \n",
       "min                   0.000000       2.070000e+02       3.000000e+00   \n",
       "25%               16448.000000       2.882393e+06       1.024279e+06   \n",
       "50%               32920.000000       5.765829e+06       2.054573e+06   \n",
       "75%               49334.000000       8.623552e+06       3.088454e+06   \n",
       "max               65870.000000       1.146283e+07       4.121357e+06   \n",
       "\n",
       "       Email DL (Bytes)  Email UL (Bytes)  Youtube DL (Bytes)  \\\n",
       "count      1.500010e+05     150001.000000        1.500010e+05   \n",
       "mean       1.791729e+06     467373.441940        1.163407e+07   \n",
       "std        1.035840e+06     269969.307031        6.710569e+06   \n",
       "min        1.400000e+01          2.000000        5.300000e+01   \n",
       "25%        8.927930e+05     233383.000000        5.833501e+06   \n",
       "50%        1.793505e+06     466250.000000        1.161602e+07   \n",
       "75%        2.689327e+06     700440.000000        1.744852e+07   \n",
       "max        3.586146e+06     936418.000000        2.325910e+07   \n",
       "\n",
       "       Youtube UL (Bytes)  Netflix DL (Bytes)  Netflix UL (Bytes)  \\\n",
       "count        1.500010e+05        1.500010e+05        1.500010e+05   \n",
       "mean         1.100941e+07        1.162685e+07        1.100175e+07   \n",
       "std          6.345423e+06        6.725218e+06        6.359490e+06   \n",
       "min          1.050000e+02        4.200000e+01        3.500000e+01   \n",
       "25%          5.517965e+06        5.777156e+06        5.475981e+06   \n",
       "50%          1.101345e+07        1.164222e+07        1.099638e+07   \n",
       "75%          1.651556e+07        1.747048e+07        1.650727e+07   \n",
       "max          2.201196e+07        2.325919e+07        2.201196e+07   \n",
       "\n",
       "       Gaming DL (Bytes)  Gaming UL (Bytes)  Other DL (Bytes)  \\\n",
       "count       1.500010e+05       1.500010e+05      1.500010e+05   \n",
       "mean        4.220447e+08       8.288398e+06      4.211005e+08   \n",
       "std         2.439675e+08       4.782700e+06      2.432050e+08   \n",
       "min         2.516000e+03       5.900000e+01      3.290000e+03   \n",
       "25%         2.104733e+08       4.128476e+06      2.101869e+08   \n",
       "50%         4.234081e+08       8.291208e+06      4.218030e+08   \n",
       "75%         6.331742e+08       1.243162e+07      6.316918e+08   \n",
       "max         8.434419e+08       1.655879e+07      8.434425e+08   \n",
       "\n",
       "       Total UL (Bytes)  Total DL (Bytes)  \n",
       "count      1.500010e+05      1.500010e+05  \n",
       "mean       4.112113e+07      4.546429e+08  \n",
       "std        1.127639e+07      2.441422e+08  \n",
       "min        2.866892e+06      7.114041e+06  \n",
       "25%        3.322196e+07      2.431072e+08  \n",
       "50%        4.114324e+07      4.558409e+08  \n",
       "75%        4.903424e+07      6.657051e+08  \n",
       "max        7.833131e+07      9.029696e+08  "
      ]
     },
     "execution_count": 64,
     "metadata": {},
     "output_type": "execute_result"
    }
   ],
   "source": [
    "df_user_aggregation.describe()"
   ]
  },
  {
   "cell_type": "code",
   "execution_count": 65,
   "id": "33dc7795-bbb3-485f-a0cf-fe513d51a2ad",
   "metadata": {},
   "outputs": [
    {
     "data": {
      "text/html": [
       "<div>\n",
       "<style scoped>\n",
       "    .dataframe tbody tr th:only-of-type {\n",
       "        vertical-align: middle;\n",
       "    }\n",
       "\n",
       "    .dataframe tbody tr th {\n",
       "        vertical-align: top;\n",
       "    }\n",
       "\n",
       "    .dataframe thead th {\n",
       "        text-align: right;\n",
       "    }\n",
       "</style>\n",
       "<table border=\"1\" class=\"dataframe\">\n",
       "  <thead>\n",
       "    <tr style=\"text-align: right;\">\n",
       "      <th></th>\n",
       "      <th>Bearer Id</th>\n",
       "      <th>Start ms</th>\n",
       "      <th>End ms</th>\n",
       "      <th>Dur. (ms)</th>\n",
       "      <th>IMSI</th>\n",
       "      <th>MSISDN/Number</th>\n",
       "      <th>IMEI</th>\n",
       "      <th>Avg RTT DL (ms)</th>\n",
       "      <th>Avg RTT UL (ms)</th>\n",
       "      <th>Avg Bearer TP DL (kbps)</th>\n",
       "      <th>...</th>\n",
       "      <th>Youtube DL (Bytes)</th>\n",
       "      <th>Youtube UL (Bytes)</th>\n",
       "      <th>Netflix DL (Bytes)</th>\n",
       "      <th>Netflix UL (Bytes)</th>\n",
       "      <th>Gaming DL (Bytes)</th>\n",
       "      <th>Gaming UL (Bytes)</th>\n",
       "      <th>Other DL (Bytes)</th>\n",
       "      <th>Other UL (Bytes)</th>\n",
       "      <th>Total UL (Bytes)</th>\n",
       "      <th>Total DL (Bytes)</th>\n",
       "    </tr>\n",
       "  </thead>\n",
       "  <tbody>\n",
       "    <tr>\n",
       "      <th>count</th>\n",
       "      <td>1.500010e+05</td>\n",
       "      <td>150001.000000</td>\n",
       "      <td>150001.000000</td>\n",
       "      <td>1.500010e+05</td>\n",
       "      <td>1.500010e+05</td>\n",
       "      <td>1.500010e+05</td>\n",
       "      <td>1.500010e+05</td>\n",
       "      <td>150001.000000</td>\n",
       "      <td>150001.000000</td>\n",
       "      <td>150001.000000</td>\n",
       "      <td>...</td>\n",
       "      <td>1.500010e+05</td>\n",
       "      <td>1.500010e+05</td>\n",
       "      <td>1.500010e+05</td>\n",
       "      <td>1.500010e+05</td>\n",
       "      <td>1.500010e+05</td>\n",
       "      <td>1.500010e+05</td>\n",
       "      <td>1.500010e+05</td>\n",
       "      <td>1.500010e+05</td>\n",
       "      <td>1.500010e+05</td>\n",
       "      <td>1.500010e+05</td>\n",
       "    </tr>\n",
       "    <tr>\n",
       "      <th>mean</th>\n",
       "      <td>1.013857e+19</td>\n",
       "      <td>499.189512</td>\n",
       "      <td>498.799735</td>\n",
       "      <td>1.046085e+05</td>\n",
       "      <td>2.082016e+14</td>\n",
       "      <td>4.182447e+10</td>\n",
       "      <td>4.846567e+13</td>\n",
       "      <td>103.663656</td>\n",
       "      <td>17.152266</td>\n",
       "      <td>13299.957487</td>\n",
       "      <td>...</td>\n",
       "      <td>1.163407e+07</td>\n",
       "      <td>1.100941e+07</td>\n",
       "      <td>1.162685e+07</td>\n",
       "      <td>1.100175e+07</td>\n",
       "      <td>4.220447e+08</td>\n",
       "      <td>8.288398e+06</td>\n",
       "      <td>4.211005e+08</td>\n",
       "      <td>8.264799e+06</td>\n",
       "      <td>4.112113e+07</td>\n",
       "      <td>4.546429e+08</td>\n",
       "    </tr>\n",
       "    <tr>\n",
       "      <th>std</th>\n",
       "      <td>2.893197e+18</td>\n",
       "      <td>288.611320</td>\n",
       "      <td>288.097034</td>\n",
       "      <td>8.103735e+04</td>\n",
       "      <td>2.144745e+10</td>\n",
       "      <td>2.438731e+12</td>\n",
       "      <td>2.241249e+13</td>\n",
       "      <td>576.739786</td>\n",
       "      <td>84.585304</td>\n",
       "      <td>23971.823106</td>\n",
       "      <td>...</td>\n",
       "      <td>6.710569e+06</td>\n",
       "      <td>6.345423e+06</td>\n",
       "      <td>6.725218e+06</td>\n",
       "      <td>6.359490e+06</td>\n",
       "      <td>2.439675e+08</td>\n",
       "      <td>4.782700e+06</td>\n",
       "      <td>2.432050e+08</td>\n",
       "      <td>4.769004e+06</td>\n",
       "      <td>1.127639e+07</td>\n",
       "      <td>2.441422e+08</td>\n",
       "    </tr>\n",
       "    <tr>\n",
       "      <th>min</th>\n",
       "      <td>6.917538e+18</td>\n",
       "      <td>0.000000</td>\n",
       "      <td>0.000000</td>\n",
       "      <td>7.142000e+03</td>\n",
       "      <td>2.040471e+14</td>\n",
       "      <td>3.360100e+10</td>\n",
       "      <td>4.400152e+11</td>\n",
       "      <td>0.000000</td>\n",
       "      <td>0.000000</td>\n",
       "      <td>0.000000</td>\n",
       "      <td>...</td>\n",
       "      <td>5.300000e+01</td>\n",
       "      <td>1.050000e+02</td>\n",
       "      <td>4.200000e+01</td>\n",
       "      <td>3.500000e+01</td>\n",
       "      <td>2.516000e+03</td>\n",
       "      <td>5.900000e+01</td>\n",
       "      <td>3.290000e+03</td>\n",
       "      <td>1.480000e+02</td>\n",
       "      <td>2.866892e+06</td>\n",
       "      <td>7.114041e+06</td>\n",
       "    </tr>\n",
       "    <tr>\n",
       "      <th>25%</th>\n",
       "      <td>7.349883e+18</td>\n",
       "      <td>250.000000</td>\n",
       "      <td>251.000000</td>\n",
       "      <td>5.744200e+04</td>\n",
       "      <td>2.082014e+14</td>\n",
       "      <td>3.365128e+10</td>\n",
       "      <td>3.546071e+13</td>\n",
       "      <td>31.000000</td>\n",
       "      <td>2.000000</td>\n",
       "      <td>43.000000</td>\n",
       "      <td>...</td>\n",
       "      <td>5.833501e+06</td>\n",
       "      <td>5.517965e+06</td>\n",
       "      <td>5.777156e+06</td>\n",
       "      <td>5.475981e+06</td>\n",
       "      <td>2.104733e+08</td>\n",
       "      <td>4.128476e+06</td>\n",
       "      <td>2.101869e+08</td>\n",
       "      <td>4.145943e+06</td>\n",
       "      <td>3.322196e+07</td>\n",
       "      <td>2.431072e+08</td>\n",
       "    </tr>\n",
       "    <tr>\n",
       "      <th>50%</th>\n",
       "      <td>7.349883e+18</td>\n",
       "      <td>499.000000</td>\n",
       "      <td>500.000000</td>\n",
       "      <td>8.639900e+04</td>\n",
       "      <td>2.082015e+14</td>\n",
       "      <td>3.366370e+10</td>\n",
       "      <td>3.572201e+13</td>\n",
       "      <td>44.000000</td>\n",
       "      <td>5.000000</td>\n",
       "      <td>63.000000</td>\n",
       "      <td>...</td>\n",
       "      <td>1.161602e+07</td>\n",
       "      <td>1.101345e+07</td>\n",
       "      <td>1.164222e+07</td>\n",
       "      <td>1.099638e+07</td>\n",
       "      <td>4.234081e+08</td>\n",
       "      <td>8.291208e+06</td>\n",
       "      <td>4.218030e+08</td>\n",
       "      <td>8.267071e+06</td>\n",
       "      <td>4.114324e+07</td>\n",
       "      <td>4.558409e+08</td>\n",
       "    </tr>\n",
       "    <tr>\n",
       "      <th>75%</th>\n",
       "      <td>1.304243e+19</td>\n",
       "      <td>749.000000</td>\n",
       "      <td>750.000000</td>\n",
       "      <td>1.324300e+05</td>\n",
       "      <td>2.082018e+14</td>\n",
       "      <td>3.368345e+10</td>\n",
       "      <td>8.611970e+13</td>\n",
       "      <td>67.000000</td>\n",
       "      <td>13.000000</td>\n",
       "      <td>19710.000000</td>\n",
       "      <td>...</td>\n",
       "      <td>1.744852e+07</td>\n",
       "      <td>1.651556e+07</td>\n",
       "      <td>1.747048e+07</td>\n",
       "      <td>1.650727e+07</td>\n",
       "      <td>6.331742e+08</td>\n",
       "      <td>1.243162e+07</td>\n",
       "      <td>6.316918e+08</td>\n",
       "      <td>1.238415e+07</td>\n",
       "      <td>4.903424e+07</td>\n",
       "      <td>6.657051e+08</td>\n",
       "    </tr>\n",
       "    <tr>\n",
       "      <th>max</th>\n",
       "      <td>1.318654e+19</td>\n",
       "      <td>999.000000</td>\n",
       "      <td>999.000000</td>\n",
       "      <td>1.859336e+06</td>\n",
       "      <td>2.140743e+14</td>\n",
       "      <td>8.823971e+14</td>\n",
       "      <td>9.900120e+13</td>\n",
       "      <td>96923.000000</td>\n",
       "      <td>7120.000000</td>\n",
       "      <td>378160.000000</td>\n",
       "      <td>...</td>\n",
       "      <td>2.325910e+07</td>\n",
       "      <td>2.201196e+07</td>\n",
       "      <td>2.325919e+07</td>\n",
       "      <td>2.201196e+07</td>\n",
       "      <td>8.434419e+08</td>\n",
       "      <td>1.655879e+07</td>\n",
       "      <td>8.434425e+08</td>\n",
       "      <td>1.655882e+07</td>\n",
       "      <td>7.833131e+07</td>\n",
       "      <td>9.029696e+08</td>\n",
       "    </tr>\n",
       "  </tbody>\n",
       "</table>\n",
       "<p>8 rows × 40 columns</p>\n",
       "</div>"
      ],
      "text/plain": [
       "          Bearer Id       Start ms         End ms     Dur. (ms)          IMSI  \\\n",
       "count  1.500010e+05  150001.000000  150001.000000  1.500010e+05  1.500010e+05   \n",
       "mean   1.013857e+19     499.189512     498.799735  1.046085e+05  2.082016e+14   \n",
       "std    2.893197e+18     288.611320     288.097034  8.103735e+04  2.144745e+10   \n",
       "min    6.917538e+18       0.000000       0.000000  7.142000e+03  2.040471e+14   \n",
       "25%    7.349883e+18     250.000000     251.000000  5.744200e+04  2.082014e+14   \n",
       "50%    7.349883e+18     499.000000     500.000000  8.639900e+04  2.082015e+14   \n",
       "75%    1.304243e+19     749.000000     750.000000  1.324300e+05  2.082018e+14   \n",
       "max    1.318654e+19     999.000000     999.000000  1.859336e+06  2.140743e+14   \n",
       "\n",
       "       MSISDN/Number          IMEI  Avg RTT DL (ms)  Avg RTT UL (ms)  \\\n",
       "count   1.500010e+05  1.500010e+05    150001.000000    150001.000000   \n",
       "mean    4.182447e+10  4.846567e+13       103.663656        17.152266   \n",
       "std     2.438731e+12  2.241249e+13       576.739786        84.585304   \n",
       "min     3.360100e+10  4.400152e+11         0.000000         0.000000   \n",
       "25%     3.365128e+10  3.546071e+13        31.000000         2.000000   \n",
       "50%     3.366370e+10  3.572201e+13        44.000000         5.000000   \n",
       "75%     3.368345e+10  8.611970e+13        67.000000        13.000000   \n",
       "max     8.823971e+14  9.900120e+13     96923.000000      7120.000000   \n",
       "\n",
       "       Avg Bearer TP DL (kbps)  ...  Youtube DL (Bytes)  Youtube UL (Bytes)  \\\n",
       "count            150001.000000  ...        1.500010e+05        1.500010e+05   \n",
       "mean              13299.957487  ...        1.163407e+07        1.100941e+07   \n",
       "std               23971.823106  ...        6.710569e+06        6.345423e+06   \n",
       "min                   0.000000  ...        5.300000e+01        1.050000e+02   \n",
       "25%                  43.000000  ...        5.833501e+06        5.517965e+06   \n",
       "50%                  63.000000  ...        1.161602e+07        1.101345e+07   \n",
       "75%               19710.000000  ...        1.744852e+07        1.651556e+07   \n",
       "max              378160.000000  ...        2.325910e+07        2.201196e+07   \n",
       "\n",
       "       Netflix DL (Bytes)  Netflix UL (Bytes)  Gaming DL (Bytes)  \\\n",
       "count        1.500010e+05        1.500010e+05       1.500010e+05   \n",
       "mean         1.162685e+07        1.100175e+07       4.220447e+08   \n",
       "std          6.725218e+06        6.359490e+06       2.439675e+08   \n",
       "min          4.200000e+01        3.500000e+01       2.516000e+03   \n",
       "25%          5.777156e+06        5.475981e+06       2.104733e+08   \n",
       "50%          1.164222e+07        1.099638e+07       4.234081e+08   \n",
       "75%          1.747048e+07        1.650727e+07       6.331742e+08   \n",
       "max          2.325919e+07        2.201196e+07       8.434419e+08   \n",
       "\n",
       "       Gaming UL (Bytes)  Other DL (Bytes)  Other UL (Bytes)  \\\n",
       "count       1.500010e+05      1.500010e+05      1.500010e+05   \n",
       "mean        8.288398e+06      4.211005e+08      8.264799e+06   \n",
       "std         4.782700e+06      2.432050e+08      4.769004e+06   \n",
       "min         5.900000e+01      3.290000e+03      1.480000e+02   \n",
       "25%         4.128476e+06      2.101869e+08      4.145943e+06   \n",
       "50%         8.291208e+06      4.218030e+08      8.267071e+06   \n",
       "75%         1.243162e+07      6.316918e+08      1.238415e+07   \n",
       "max         1.655879e+07      8.434425e+08      1.655882e+07   \n",
       "\n",
       "       Total UL (Bytes)  Total DL (Bytes)  \n",
       "count      1.500010e+05      1.500010e+05  \n",
       "mean       4.112113e+07      4.546429e+08  \n",
       "std        1.127639e+07      2.441422e+08  \n",
       "min        2.866892e+06      7.114041e+06  \n",
       "25%        3.322196e+07      2.431072e+08  \n",
       "50%        4.114324e+07      4.558409e+08  \n",
       "75%        4.903424e+07      6.657051e+08  \n",
       "max        7.833131e+07      9.029696e+08  \n",
       "\n",
       "[8 rows x 40 columns]"
      ]
     },
     "execution_count": 65,
     "metadata": {},
     "output_type": "execute_result"
    }
   ],
   "source": [
    "df_clean.describe()"
   ]
  },
  {
   "cell_type": "code",
   "execution_count": null,
   "id": "0c4b2386-5ef1-4af7-abfc-897e214f8055",
   "metadata": {},
   "outputs": [],
   "source": []
  },
  {
   "cell_type": "code",
   "execution_count": null,
   "id": "9db6b342-df1c-4221-be7d-f4fe2f5d71c2",
   "metadata": {},
   "outputs": [],
   "source": []
  },
  {
   "cell_type": "code",
   "execution_count": null,
   "id": "bbac6242-af8f-48bb-9e4f-c7757a339274",
   "metadata": {},
   "outputs": [],
   "source": []
  }
 ],
 "metadata": {
  "kernelspec": {
   "display_name": "Python 3 (ipykernel)",
   "language": "python",
   "name": "python3"
  },
  "language_info": {
   "codemirror_mode": {
    "name": "ipython",
    "version": 3
   },
   "file_extension": ".py",
   "mimetype": "text/x-python",
   "name": "python",
   "nbconvert_exporter": "python",
   "pygments_lexer": "ipython3",
   "version": "3.11.5"
  }
 },
 "nbformat": 4,
 "nbformat_minor": 5
}
